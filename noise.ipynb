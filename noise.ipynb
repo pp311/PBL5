{
 "cells": [
  {
   "cell_type": "code",
   "execution_count": 1,
   "id": "f6e95bb4",
   "metadata": {},
   "outputs": [],
   "source": [
    "import librosa\n",
    "import os\n",
    "from pydub import AudioSegment\n",
    "import numpy as np\n",
    "from pydub.generators import WhiteNoise\n",
    "import soundfile as sf"
   ]
  },
  {
   "cell_type": "code",
   "execution_count": 2,
   "id": "440bd841",
   "metadata": {},
   "outputs": [
    {
     "name": "stdout",
     "output_type": "stream",
     "text": [
      "\t\tbat\n",
      "\t\ttat\n",
      "\t\tmot\n",
      "\t\thai\n",
      "\t\tba\n",
      "\t\tsheila\n",
      "\t\tden\n",
      "\t\tquat\n"
     ]
    }
   ],
   "source": [
    "import warnings\n",
    "warnings.filterwarnings('ignore')\n",
    "\n",
    "base_ds = 'datasets_main_num_cut'\n",
    "wn_ds = 'datasets_main_time'\n",
    "\n",
    "def addWhiteNoise(word, name, level=0.1):\n",
    "    sound,sr = librosa.load(f\"./{base_ds}/{word}/{name}\")\n",
    "    noise = np.random.normal(0, sound.std(), sound.size)\n",
    "    augmented_signal = sound + noise*level\n",
    "    sf.write(f\"./{wn_ds}/{word}/wn_{str(level)}_{name}\", augmented_signal, sr)\n",
    "\n",
    "def addBackgroundNoise(word, name):\n",
    "    sound = AudioSegment.from_file(f\"./{base_ds}/{word}/{name}\")\n",
    "    noice = AudioSegment.from_file(\"./Noise/DieuHoa.wav\")\n",
    "    combined = sound.overlay(noice)\n",
    "\n",
    "    combined.export(out_f = f\"./{base_ds}/{word}/background_noise{name}\", format='wav')\n",
    "def time_stretch(word, name, rate=0.75):\n",
    "    sound,sr = librosa.load(f\"./{base_ds}/{word}/{name}\")\n",
    "    augmented_signal = librosa.effects.time_stretch(sound,rate=rate)\n",
    "    sf.write(f\"./{wn_ds}/{word}/time_{str(rate)}_{name}\", augmented_signal, sr)\n",
    "\n",
    "\n",
    "def createFile(word, name):\n",
    "    isExist = os.path.exists(f\"./{wn_ds}/{word}\")\n",
    "    if not isExist:\n",
    "        os.makedirs(f\"./{wn_ds}/{word}\")\n",
    "    # addBackgroundNoise(word, name)\n",
    "    #addWhiteNoise(word, name)\n",
    "    addWhiteNoise(word, name, 0.25)\n",
    "    time_stretch(word, name)\n",
    "    time_stretch(word, name, rate=1.25)\n",
    "\n",
    "if __name__ == '__main__':\n",
    "    class_names = ['bat', 'tat', 'mot', 'hai', 'ba','sheila', 'den', 'quat']\n",
    "    \n",
    "    for cname in class_names:\n",
    "        person = [i for i in os.listdir(os.path.join(base_ds,cname))\n",
    "                                if i.endswith('.wav')]\n",
    "        print(\"\\t\\t\" + cname)\n",
    "        for name in person:\n",
    "            createFile(cname, name)"
   ]
  },
  {
   "cell_type": "code",
   "execution_count": null,
   "id": "cd73ffd5",
   "metadata": {},
   "outputs": [],
   "source": []
  },
  {
   "cell_type": "code",
   "execution_count": null,
   "id": "a2f03957",
   "metadata": {},
   "outputs": [],
   "source": []
  }
 ],
 "metadata": {
  "kernelspec": {
   "display_name": "Python 3 (ipykernel)",
   "language": "python",
   "name": "python3"
  },
  "language_info": {
   "codemirror_mode": {
    "name": "ipython",
    "version": 3
   },
   "file_extension": ".py",
   "mimetype": "text/x-python",
   "name": "python",
   "nbconvert_exporter": "python",
   "pygments_lexer": "ipython3",
   "version": "3.11.3"
  }
 },
 "nbformat": 4,
 "nbformat_minor": 5
}
