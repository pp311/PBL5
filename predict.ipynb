{
 "cells": [
  {
   "cell_type": "code",
   "execution_count": 2,
   "id": "af1b5b80",
   "metadata": {
    "ExecuteTime": {
     "end_time": "2023-05-07T06:35:14.493423743Z",
     "start_time": "2023-05-07T06:35:13.776791508Z"
    }
   },
   "outputs": [],
   "source": [
    "import pickle\n",
    "import wave\n",
    "import librosa\n",
    "import math\n",
    "import numpy as np\n",
    "import pyaudio\n",
    "from pydub import AudioSegment\n",
    "import sounddevice as sd\n",
    "from scipy.io.wavfile import write, read\n",
    "import noisereduce as nr"
   ]
  },
  {
   "cell_type": "code",
   "execution_count": 3,
   "id": "e243295d",
   "metadata": {
    "ExecuteTime": {
     "end_time": "2023-05-07T06:35:15.488975360Z",
     "start_time": "2023-05-07T06:35:15.468947403Z"
    }
   },
   "outputs": [],
   "source": [
    "model = {}\n",
    "\n",
    "#class_names = ['bat', 'tat', 'thiet', 'bi', 'mot', 'hai', 'ba', 'bon']\n",
    "class_names = ['bat', 'tat', 'mot', 'hai', 'ba', 'sheila', 'den', 'quat']\n",
    "audio_format = 'wav'\n",
    "\n",
    "record_path = 'temp/record.wav'\n",
    "trimmed_path = 'temp/trimmed.wav'\n",
    "model_path = 'models_train_main'"
   ]
  },
  {
   "cell_type": "code",
   "execution_count": 4,
   "id": "74118b40",
   "metadata": {
    "ExecuteTime": {
     "end_time": "2023-05-07T06:35:17.992844054Z",
     "start_time": "2023-05-07T06:35:17.983139454Z"
    }
   },
   "outputs": [],
   "source": [
    "def get_mfcc(file_path):\n",
    "    y, sr = librosa.load(file_path)  # read .wav file\n",
    "       \n",
    "    hop_length = math.floor(sr * 0.010)  # 10ms hop\n",
    "    win_length = math.floor(sr * 0.025)  # 25ms frame\n",
    "    # mfcc is 12 x T matrix\n",
    "    mfcc = librosa.feature.mfcc(\n",
    "        y=y, sr=sr, n_mfcc=12, n_fft=1024,\n",
    "        hop_length=hop_length, win_length=win_length)\n",
    "    # subtract mean from mfcc --> normalize mfcc\n",
    "    mfcc = mfcc - np.mean(mfcc, axis=1).reshape((-1, 1))\n",
    "    # delta feature 1st order and 2nd order\n",
    "    delta1 = librosa.feature.delta(mfcc, order=1)\n",
    "    delta2 = librosa.feature.delta(mfcc, order=2)\n",
    "    # X is 36 x T\n",
    "    X = np.concatenate([mfcc, delta1, delta2], axis=0)  # O^r\n",
    "    # return T x 36 (transpose of X)\n",
    "    return X.T  # hmmlearn use T x N matrix"
   ]
  },
  {
   "cell_type": "code",
   "execution_count": 4,
   "id": "9cdbf414",
   "metadata": {},
   "outputs": [],
   "source": [
    "def detect_leading_silence(sound, silence_threshold=-42.0, chunk_size=10):\n",
    "        trim_ms = 0  # ms\n",
    "        assert chunk_size > 0  # to avoid infinite loop\n",
    "        while sound[trim_ms:trim_ms + chunk_size].dBFS < silence_threshold and trim_ms < len(sound):\n",
    "            trim_ms += chunk_size\n",
    "        return trim_ms"
   ]
  },
  {
   "cell_type": "code",
   "execution_count": 5,
   "id": "f9517037",
   "metadata": {},
   "outputs": [],
   "source": [
    "for key in class_names:\n",
    "    name = f\"{model_path}/model_{key}.pkl\"\n",
    "    with open(name, 'rb') as file:\n",
    "        model[key] = pickle.load(file)"
   ]
  },
  {
   "cell_type": "code",
   "execution_count": 6,
   "id": "384dac77",
   "metadata": {},
   "outputs": [],
   "source": [
    "def predict(file_name=None):\n",
    "    if not file_name:\n",
    "        file_name = record_path\n",
    "        \n",
    "# #     # load data\n",
    "#     rate, data = read(file_name)\n",
    "# #     # perform noise reduction\n",
    "#     reduced_noise = nr.reduce_noise(y=data, sr=rate)\n",
    "#     write(\"temp/reduced.wav\", rate, reduced_noise)\n",
    "\n",
    "    # Trim silence\n",
    "    sound = AudioSegment.from_file(file_name, format=audio_format)\n",
    "\n",
    "    start_trim = detect_leading_silence(sound)\n",
    "    end_trim = detect_leading_silence(sound.reverse())\n",
    "    if start_trim > 250:\n",
    "        start_trim -= 250\n",
    "    else:\n",
    "        start_trim = 0\n",
    "    \n",
    "    duration = len(sound)\n",
    "    if duration - end_trim <= start_trim + 200:\n",
    "        end_trim = 0\n",
    "    if start_trim >= 750:\n",
    "        print(\"XXX\")\n",
    "        return\n",
    "    \n",
    "    print(str(start_trim) + \" - \" + str(duration - end_trim))\n",
    "    #trimmed_sound = sound[start_trim:duration - end_trim]\n",
    "    trimmed_sound = sound[start_trim:]\n",
    "    trimmed_sound.export(trimmed_path, format=audio_format)\n",
    "\n",
    "    # Predict\n",
    "    record_mfcc = get_mfcc(trimmed_path)\n",
    "    #record_mfcc = get_mfcc2(trimmed_sound)\n",
    "    scores = [model[cname].score(record_mfcc) for cname in class_names]\n",
    "    #print('scores', np.array(scores))\n",
    "    predict_word = np.argmax(scores)\n",
    "    \n",
    "    print(class_names[predict_word])"
   ]
  },
  {
   "cell_type": "code",
   "execution_count": 7,
   "id": "8ce143f9",
   "metadata": {
    "scrolled": true
   },
   "outputs": [],
   "source": [
    "# word = \"bat\"\n",
    "# predict(file_name='datasets_main/' + word + '/c1_dat_3.wav')\n",
    "# predict(file_name='datasets_main/' + word + '/c1_dat_8.wav')\n",
    "# predict(file_name='datasets_main/' + word + '/c1_hieu_3.wav')\n",
    "# predict(file_name='datasets_main/' + word + '/c1_hieu_8.wav')"
   ]
  },
  {
   "cell_type": "code",
   "execution_count": 8,
   "id": "4ff7934d",
   "metadata": {},
   "outputs": [
    {
     "name": "stdout",
     "output_type": "stream",
     "text": [
      "0 - 970\n",
      "ba\n"
     ]
    }
   ],
   "source": [
    "RATE = 16000\n",
    "RECORD_SECONDS = 1\n",
    "myrecording = sd.rec(int(RECORD_SECONDS * RATE), channels=1, samplerate=RATE)\n",
    "sd.wait()\n",
    "write(record_path, RATE, myrecording)\n",
    "predict(record_path)"
   ]
  },
  {
   "cell_type": "code",
   "execution_count": 9,
   "id": "dffd54b7",
   "metadata": {},
   "outputs": [],
   "source": [
    "window = None\n",
    "command = \"\"\n",
    "phase = 0\n",
    "def sd_callback(rec, frames, time, status):\n",
    "    global window\n",
    "    global command\n",
    "    global phase\n",
    "    rec = np.squeeze(rec)\n",
    "    if window is None:\n",
    "        window = np.copy(rec)\n",
    "\n",
    "    window2 = np.copy(rec)\n",
    "    rec = np.concatenate((window, rec))\n",
    "    window = np.copy(window2)\n",
    "    \n",
    "    # Notify if errors\n",
    "    if status:\n",
    "        print('Error:', status)\n",
    "    \n",
    "    write(\"temp/record.wav\", 16000, rec)\n",
    "\n",
    "    sound = AudioSegment.from_wav(\"temp/record.wav\")\n",
    "    start_trim = detect_leading_silence(sound)\n",
    "    end_trim = detect_leading_silence(sound.reverse())\n",
    "    if start_trim > 200:\n",
    "        start_trim -= 200\n",
    "    else:\n",
    "        start_trim = 0\n",
    "    duration = len(sound)\n",
    "    if duration - end_trim <= start_trim + 200:\n",
    "        end_trim = 0\n",
    "    \n",
    "    trimmed_sound = sound[start_trim:]\n",
    "    trimmed_sound.export(trimmed_path, format=audio_format)\n",
    "    if start_trim >= 800:\n",
    "        return\n",
    "    if duration - end_trim - start_trim > 600:\n",
    "        return\n",
    "    if start_trim <= 30:\n",
    "        return\n",
    "    \n",
    "    #print(str(start_trim) + \" - \" + str(duration - end_trim))\n",
    "    # Compute features\n",
    "    mfccs = get_mfcc(trimmed_path)\n",
    "    #mfccs = mfccs.transpose()\n",
    "\n",
    "    scores = [model[cname].score(mfccs) for cname in class_names]\n",
    "    \n",
    "    #print('scores', np.array(scores) / 1000)\n",
    "    predict_word = np.argmax(scores)\n",
    "    print(class_names[predict_word])\n",
    "#     if phase == 0 and class_names[predict_word] == 'sheila':\n",
    "#         phase = 1 \n",
    "#         print(class_names[predict_word])\n",
    "#     elif phase == 1 and class_names[predict_word] in ['bat', 'tat']:\n",
    "#         phase = 2\n",
    "#         print(class_names[predict_word])\n",
    "#     elif phase == 2 and class_names[predict_word] in ['den', 'quat']:\n",
    "#         phase = 3\n",
    "#         print(class_names[predict_word])\n",
    "#     elif phase == 2 and class_names[predict_word] in ['mot', 'hai', 'ba']:\n",
    "#         phase = 0\n",
    "#         print(class_names[predict_word])\n",
    "\n",
    "#    print()"
   ]
  },
  {
   "cell_type": "code",
   "execution_count": 10,
   "id": "36fdf273",
   "metadata": {
    "scrolled": false
   },
   "outputs": [
    {
     "name": "stderr",
     "output_type": "stream",
     "text": [
      "Exception ignored from cffi callback <function _StreamBase.__init__.<locals>.callback_ptr at 0x7f9a765dfd90>:\n",
      "Traceback (most recent call last):\n",
      "  File \"/home/pp311/.local/lib/python3.10/site-packages/sounddevice.py\", line 846, in callback_ptr\n",
      "    return _wrap_callback(callback, data, frames, time, status)\n",
      "  File \"/home/pp311/.local/lib/python3.10/site-packages/sounddevice.py\", line 2687, in _wrap_callback\n",
      "    callback(*args)\n",
      "  File \"/tmp/ipykernel_179565/1554775209.py\", line 22, in sd_callback\n",
      "  File \"/home/pp311/.local/lib/python3.10/site-packages/pydub/audio_segment.py\", line 808, in from_wav\n",
      "    return cls.from_file(file, 'wav', parameters=parameters)\n",
      "  File \"/home/pp311/.local/lib/python3.10/site-packages/pydub/audio_segment.py\", line 728, in from_file\n",
      "    info = mediainfo_json(orig_file, read_ahead_limit=read_ahead_limit)\n",
      "  File \"/home/pp311/.local/lib/python3.10/site-packages/pydub/utils.py\", line 279, in mediainfo_json\n",
      "    info = json.loads(output)\n",
      "  File \"/usr/lib/python3.10/json/__init__.py\", line 346, in loads\n",
      "    return _default_decoder.decode(s)\n",
      "  File \"/usr/lib/python3.10/json/decoder.py\", line 337, in decode\n",
      "    obj, end = self.raw_decode(s, idx=_w(s, 0).end())\n",
      "  File \"/usr/lib/python3.10/json/decoder.py\", line 355, in raw_decode\n",
      "    raise JSONDecodeError(\"Expecting value\", s, err.value) from None\n",
      "json.decoder.JSONDecodeError: Expecting value: line 1 column 1 (char 0)\n"
     ]
    },
    {
     "ename": "KeyboardInterrupt",
     "evalue": "",
     "output_type": "error",
     "traceback": [
      "\u001B[0;31m---------------------------------------------------------------------------\u001B[0m",
      "\u001B[0;31mKeyboardInterrupt\u001B[0m                         Traceback (most recent call last)",
      "Cell \u001B[0;32mIn[10], line 5\u001B[0m\n\u001B[1;32m      1\u001B[0m \u001B[38;5;28;01mwith\u001B[39;00m sd\u001B[38;5;241m.\u001B[39mInputStream(channels\u001B[38;5;241m=\u001B[39m\u001B[38;5;241m1\u001B[39m,\n\u001B[1;32m      2\u001B[0m                     samplerate\u001B[38;5;241m=\u001B[39m\u001B[38;5;241m16000\u001B[39m,\n\u001B[1;32m      3\u001B[0m                     blocksize\u001B[38;5;241m=\u001B[39m\u001B[38;5;28mint\u001B[39m(\u001B[38;5;241m16000\u001B[39m \u001B[38;5;241m*\u001B[39m \u001B[38;5;241m0.5\u001B[39m),\n\u001B[1;32m      4\u001B[0m                     callback\u001B[38;5;241m=\u001B[39msd_callback):\n\u001B[0;32m----> 5\u001B[0m     \u001B[38;5;28;01mwhile\u001B[39;00m \u001B[38;5;28;01mTrue\u001B[39;00m:\n\u001B[1;32m      6\u001B[0m         \u001B[38;5;28;01mpass\u001B[39;00m\n",
      "\u001B[0;31mKeyboardInterrupt\u001B[0m: "
     ]
    }
   ],
   "source": [
    "with sd.InputStream(channels=1,\n",
    "                    samplerate=16000,\n",
    "                    blocksize=int(16000 * 0.5),\n",
    "                    callback=sd_callback):\n",
    "    while True:\n",
    "        pass"
   ]
  },
  {
   "cell_type": "code",
   "execution_count": null,
   "id": "64210ca1",
   "metadata": {},
   "outputs": [],
   "source": [
    "\n"
   ]
  }
 ],
 "metadata": {
  "kernelspec": {
   "display_name": "Python 3 (ipykernel)",
   "language": "python",
   "name": "python3"
  },
  "language_info": {
   "codemirror_mode": {
    "name": "ipython",
    "version": 3
   },
   "file_extension": ".py",
   "mimetype": "text/x-python",
   "name": "python",
   "nbconvert_exporter": "python",
   "pygments_lexer": "ipython3",
   "version": "3.10.10"
  }
 },
 "nbformat": 4,
 "nbformat_minor": 5
}
